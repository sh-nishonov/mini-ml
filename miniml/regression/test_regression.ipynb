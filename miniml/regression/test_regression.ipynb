{
 "cells": [
  {
   "cell_type": "code",
   "execution_count": 1,
   "metadata": {},
   "outputs": [],
   "source": [
    "import numpy as np\n",
    "from sklearn.model_selection import train_test_split\n",
    "from sklearn import datasets\n",
    "import matplotlib.pyplot as plt\n",
    "from sklearn.metrics import confusion_matrix\n",
    "from numpy.random import randn\n",
    "import random\n",
    "from IPython.core.display import display,Image\n",
    "from string import Template\n",
    "import IPython.display\n",
    "import warnings"
   ]
  },
  {
   "cell_type": "code",
   "execution_count": 4,
   "metadata": {},
   "outputs": [],
   "source": [
    "import MultiLinearRegression"
   ]
  },
  {
   "cell_type": "code",
   "execution_count": 5,
   "metadata": {},
   "outputs": [
    {
     "name": "stdout",
     "output_type": "stream",
     "text": [
      "[[ 1.20200259]\n",
      " [ 0.87084178]\n",
      " [-0.60688728]\n",
      " [-1.09712188]\n",
      " [ 0.28086468]\n",
      " [-0.98299165]\n",
      " [-0.19674528]\n",
      " [ 2.02240507]\n",
      " [ 0.1886462 ]\n",
      " [-1.36096559]\n",
      " [ 0.20931349]\n",
      " [ 0.55618522]\n",
      " [ 0.35099715]\n",
      " [ 0.50977885]\n",
      " [ 0.49995133]\n",
      " [-0.49581852]\n",
      " [-1.10558404]\n",
      " [ 0.3523434 ]\n",
      " [ 0.50991978]\n",
      " [ 0.39429521]]\n",
      "[[ 1.20200259]\n",
      " [ 0.87084178]\n",
      " [-0.60688728]\n",
      " [-1.09712188]\n",
      " [ 0.28086468]\n",
      " [-0.98299165]\n",
      " [-0.19674528]\n",
      " [ 2.02240507]\n",
      " [ 0.1886462 ]\n",
      " [-1.36096559]\n",
      " [ 0.20931349]\n",
      " [ 0.55618522]\n",
      " [ 0.35099715]\n",
      " [ 0.50977885]\n",
      " [ 0.49995133]\n",
      " [-0.49581852]\n",
      " [-1.10558404]\n",
      " [ 0.3523434 ]\n",
      " [ 0.50991978]\n",
      " [ 0.39429521]]\n",
      "[75.0568428]\n",
      "[[ 1.20200259]\n",
      " [ 0.87084178]\n",
      " [-0.60688728]\n",
      " [-1.09712188]\n",
      " [ 0.28086468]\n",
      " [-0.98299165]\n",
      " [-0.19674528]\n",
      " [ 2.02240507]\n",
      " [ 0.1886462 ]\n",
      " [-1.36096559]\n",
      " [ 0.20931349]\n",
      " [ 0.55618522]\n",
      " [ 0.35099715]\n",
      " [ 0.50977885]\n",
      " [ 0.49995133]\n",
      " [-0.49581852]\n",
      " [-1.10558404]\n",
      " [ 0.3523434 ]\n",
      " [ 0.50991978]\n",
      " [ 0.39429521]]\n",
      "[[ 1.20200259]\n",
      " [ 0.87084178]\n",
      " [-0.60688728]\n",
      " [-1.09712188]\n",
      " [ 0.28086468]\n",
      " [-0.98299165]\n",
      " [-0.19674528]\n",
      " [ 2.02240507]\n",
      " [ 0.1886462 ]\n",
      " [-1.36096559]\n",
      " [ 0.20931349]\n",
      " [ 0.55618522]\n",
      " [ 0.35099715]\n",
      " [ 0.50977885]\n",
      " [ 0.49995133]\n",
      " [-0.49581852]\n",
      " [-1.10558404]\n",
      " [ 0.3523434 ]\n",
      " [ 0.50991978]\n",
      " [ 0.39429521]]\n",
      "MSE (Custom): 306.2094907537794\n",
      "MSE (sklearn): 305.7741316228642\n",
      "MSE Inverse:  306.2100465232259\n"
     ]
    },
    {
     "data": {
      "image/png": "[encoded data removed]",
      "text/plain": [
       "<Figure size 576x432 with 1 Axes>"
      ]
     },
     "metadata": {
      "needs_background": "light"
     },
     "output_type": "display_data"
    }
   ],
   "source": [
    "from sklearn.metrics import mean_squared_error\n",
    "from sklearn.linear_model import LinearRegression\n",
    "X, y = datasets.make_regression(n_samples=100, n_features=1, noise=20, random_state=4)\n",
    "X_train, X_test, y_train, y_test = train_test_split(X, y, test_size=0.2, random_state=1234)\n",
    "\n",
    "#grad = True\n",
    "regressor = MultiLinearRegression.LinearRegression(learning_rate=0.01, n_iterations=1000, gradient_descent=True)\n",
    "regressor.fit(X_train, y_train)\n",
    "#print(regressor.weights.shape)\n",
    "predictions = regressor.predict(X_test)\n",
    "\n",
    "regressor_T = MultiLinearRegression.LinearRegression(learning_rate=0.01, n_iterations=1000, gradient_descent=False)\n",
    "regressor_T.fit(X_train, y_train)\n",
    "#print(regressor.weights.shape)\n",
    "predictions_T = regressor_T.predict(X_test)\n",
    "\n",
    "reg_sk = LinearRegression().fit(X_train, y_train)\n",
    "pred_sk = reg_sk.predict(X_test)\n",
    "\n",
    "    \n",
    "mse_sk = mean_squared_error(y_test, pred_sk)\n",
    "mse = mean_squared_error(y_test, predictions)\n",
    "mse_T = mean_squared_error(y_test, predictions_T)\n",
    "print(\"MSE (Custom):\", mse)\n",
    "print(\"MSE (sklearn):\", mse_sk)\n",
    "print(\"MSE Inverse: \", mse_T)\n",
    "\n",
    "#y_pred_line = regressor.predict(X)\n",
    "\n",
    "X_test.shape, predictions.shape\n",
    "\n",
    "cmap = plt.get_cmap('viridis')\n",
    "fig = plt.figure(figsize=(8,6))\n",
    "plt.scatter(X_train, y_train, color=cmap(0.9), s=10)\n",
    "plt.scatter(X_test, y_test, color=cmap(0.5), s=10)\n",
    "plt.plot(X_test, predictions, color='black', linewidth=4, label=\"Prediction\")\n",
    "plt.plot(X_test, pred_sk, color='red', linewidth=2, label=\"Prediction\")\n",
    "plt.plot(X_test, predictions_T, color='green', linewidth=6, label=\"Prediction\")\n",
    "plt.show()"
   ]
  },
  {
   "cell_type": "code",
   "execution_count": null,
   "metadata": {},
   "outputs": [],
   "source": []
  }
 ],
 "metadata": {
  "interpreter": {
   "hash": "62c360c04fe3d83422f74a2ae0d3e931e734c8ce3f1c6b7768dd793bd7b56531"
  },
  "kernelspec": {
   "display_name": "Python 3 (ipykernel)",
   "language": "python",
   "name": "python3"
  },
  "language_info": {
   "codemirror_mode": {
    "name": "ipython",
    "version": 3
   },
   "file_extension": ".py",
   "mimetype": "text/x-python",
   "name": "python",
   "nbconvert_exporter": "python",
   "pygments_lexer": "ipython3",
   "version": "3.9.5"
  }
 },
 "nbformat": 4,
 "nbformat_minor": 2
}
